{
 "cells": [
  {
   "cell_type": "code",
   "execution_count": null,
   "id": "70260899",
   "metadata": {},
   "outputs": [],
   "source": [
    "import matplotlib.pyplot as plt\n",
    "import numpy as np\n",
    "from first_orchard_solver.gameplay.gamelogic import FruitInventory, OrchardDie\n",
    "from first_orchard_solver.gameplay.gamestrategy import play_with_strat\n"
   ]
  },
  {
   "cell_type": "code",
   "execution_count": 2,
   "id": "5b34660e",
   "metadata": {},
   "outputs": [
    {
     "data": {
      "text/plain": [
       "5"
      ]
     },
     "execution_count": 2,
     "metadata": {},
     "output_type": "execute_result"
    }
   ],
   "source": [
    "OrchardDie().roll()"
   ]
  },
  {
   "cell_type": "code",
   "execution_count": 3,
   "id": "c2812836",
   "metadata": {},
   "outputs": [
    {
     "data": {
      "text/plain": [
       "{3: 3, 4: 4, 5: 4, 6: 4}"
      ]
     },
     "execution_count": 3,
     "metadata": {},
     "output_type": "execute_result"
    }
   ],
   "source": [
    "#Test of decrement fruit and OrchardDie\n",
    "o_die = OrchardDie()\n",
    "apple = FruitInventory(o_die)\n",
    "apple.decrement_fruit(3)\n",
    "apple.full_inv"
   ]
  },
  {
   "cell_type": "code",
   "execution_count": 4,
   "id": "98deeb35",
   "metadata": {},
   "outputs": [
    {
     "name": "stdout",
     "output_type": "stream",
     "text": [
      "{3: 4, 4: 3, 5: 4, 6: 4}\n",
      "{3: 4, 4: 2, 5: 4, 6: 4}\n"
     ]
    }
   ],
   "source": [
    "#Test of smallest strat\n",
    "apple = FruitInventory(o_die)\n",
    "apple.full_inv[4] = 3\n",
    "print(apple.full_inv)\n",
    "apple.smallest_strat()\n",
    "print(apple.full_inv)"
   ]
  },
  {
   "cell_type": "code",
   "execution_count": 5,
   "id": "720b1dbb",
   "metadata": {},
   "outputs": [
    {
     "name": "stdout",
     "output_type": "stream",
     "text": [
      "{3: 4, 4: 5, 5: 4, 6: 4}\n",
      "{3: 4, 4: 4, 5: 4, 6: 4}\n"
     ]
    }
   ],
   "source": [
    "#Test of largest strat\n",
    "apple = FruitInventory(o_die)\n",
    "apple.full_inv[4] = 5\n",
    "print(apple.full_inv)\n",
    "apple.largest_strat()\n",
    "print(apple.full_inv)"
   ]
  },
  {
   "cell_type": "code",
   "execution_count": 9,
   "id": "c0a9860c",
   "metadata": {},
   "outputs": [
    {
     "name": "stdout",
     "output_type": "stream",
     "text": [
      "{3: 4, 4: 4, 5: 4, 6: 4}\n",
      "{3: 3, 4: 4, 5: 4, 6: 4}\n"
     ]
    }
   ],
   "source": [
    "#Test of random strat\n",
    "o_die = OrchardDie()\n",
    "apple = FruitInventory(o_die)\n",
    "print(apple.full_inv)\n",
    "apple.random_strat()\n",
    "print(apple.full_inv)"
   ]
  },
  {
   "cell_type": "code",
   "execution_count": 10,
   "id": "52de7984",
   "metadata": {},
   "outputs": [
    {
     "name": "stdout",
     "output_type": "stream",
     "text": [
      "{3: 0, 4: 0, 5: 1, 6: 0}\n",
      "True\n",
      "{3: 4, 4: 4, 5: 4, 6: 4}\n",
      "True\n",
      "{3: 0, 4: 0, 5: 0, 6: 0}\n",
      "False\n"
     ]
    }
   ],
   "source": [
    "#Test check zeros\n",
    "apple = FruitInventory(fruit_amt = 0)\n",
    "apple.full_inv[5] = 1\n",
    "print(apple.full_inv)\n",
    "print(apple.check_not_zero())\n",
    "banana = FruitInventory()\n",
    "print(banana.full_inv)\n",
    "print(banana.check_not_zero())\n",
    "strawberry = FruitInventory(fruit_amt = 0)\n",
    "print(strawberry.full_inv)\n",
    "print(strawberry.check_not_zero())"
   ]
  },
  {
   "cell_type": "code",
   "execution_count": null,
   "id": "fae6cb0b",
   "metadata": {},
   "outputs": [],
   "source": [
    "#code to play game based on strategy including end conditions\n"
   ]
  },
  {
   "cell_type": "code",
   "execution_count": 13,
   "id": "c4907759",
   "metadata": {},
   "outputs": [],
   "source": [
    "#Simple test of play_with_strat function"
   ]
  },
  {
   "cell_type": "code",
   "execution_count": 14,
   "id": "8df7f741",
   "metadata": {},
   "outputs": [
    {
     "name": "stdout",
     "output_type": "stream",
     "text": [
      "{3: 0, 4: 0, 5: 0, 6: 0}\n",
      "2\n"
     ]
    }
   ],
   "source": [
    "final_fruit_inventory = play_with_strat('smallest')\n",
    "print(final_fruit_inventory.fruit_inventory.full_inv)\n",
    "print(final_fruit_inventory.raven_track.spaces)"
   ]
  },
  {
   "cell_type": "code",
   "execution_count": 15,
   "id": "beb04572",
   "metadata": {},
   "outputs": [],
   "source": [
    "#class to store multiple results, i.e. raven_end is the loss condition and fruit_end is the win condition\n",
    "class GameResults:\n",
    "    raven_end = 0\n",
    "    fruit_end = 0"
   ]
  },
  {
   "cell_type": "code",
   "execution_count": 16,
   "id": "c2a49734",
   "metadata": {},
   "outputs": [
    {
     "name": "stdout",
     "output_type": "stream",
     "text": [
      "0\n",
      "1\n"
     ]
    }
   ],
   "source": [
    "#test to ensure GameResults is able to be updated\n",
    "game_results = GameResults\n",
    "print(game_results.raven_end)\n",
    "game_results.raven_end +=1\n",
    "print(game_results.raven_end)"
   ]
  },
  {
   "cell_type": "code",
   "execution_count": 17,
   "id": "bf6915f0",
   "metadata": {},
   "outputs": [],
   "source": [
    "#code to run strategy multiple times\n",
    "def run_strat_ntimes(n_runs: int, strat):\n",
    "    game_results = GameResults\n",
    "    game_results.raven_end = 0\n",
    "    game_results.fruit_end = 0\n",
    "    for i in range(n_runs):\n",
    "        game_state = play_with_strat(strat)\n",
    "        if game_state.raven_track.spaces == 0:\n",
    "            game_results.raven_end += 1\n",
    "        else:\n",
    "            game_results.fruit_end +=1\n",
    "    return game_results    "
   ]
  },
  {
   "cell_type": "code",
   "execution_count": 18,
   "id": "8eaccc97",
   "metadata": {},
   "outputs": [
    {
     "data": {
      "text/plain": [
       "2"
      ]
     },
     "execution_count": 18,
     "metadata": {},
     "output_type": "execute_result"
    }
   ],
   "source": [
    "#simple test of running the strategy multiple times\n",
    "game_res_test = run_strat_ntimes(10, 'random')\n",
    "game_res_test.raven_end"
   ]
  },
  {
   "cell_type": "code",
   "execution_count": 19,
   "id": "4bbcf3ef",
   "metadata": {},
   "outputs": [],
   "source": [
    "#First look at how the different strategies perform\n"
   ]
  },
  {
   "cell_type": "code",
   "execution_count": 20,
   "id": "7614dc2f",
   "metadata": {},
   "outputs": [
    {
     "data": {
      "text/plain": [
       "51"
      ]
     },
     "execution_count": 20,
     "metadata": {},
     "output_type": "execute_result"
    }
   ],
   "source": [
    "smallest_results = run_strat_ntimes(100, 'smallest')\n",
    "smallest_results.fruit_end"
   ]
  },
  {
   "cell_type": "code",
   "execution_count": 21,
   "id": "d5cbd8d2",
   "metadata": {},
   "outputs": [],
   "source": [
    "#Largest is better than smallest, likely then it is the best strategy, but let's try random to be sure"
   ]
  },
  {
   "cell_type": "code",
   "execution_count": 22,
   "id": "9f285700",
   "metadata": {},
   "outputs": [
    {
     "data": {
      "text/plain": [
       "58"
      ]
     },
     "execution_count": 22,
     "metadata": {},
     "output_type": "execute_result"
    }
   ],
   "source": [
    "largest_results = run_strat_ntimes(100, 'largest')\n",
    "largest_results.fruit_end"
   ]
  },
  {
   "cell_type": "code",
   "execution_count": 23,
   "id": "ecca4341",
   "metadata": {},
   "outputs": [
    {
     "data": {
      "text/plain": [
       "64"
      ]
     },
     "execution_count": 23,
     "metadata": {},
     "output_type": "execute_result"
    }
   ],
   "source": [
    "random_results = run_strat_ntimes(100, 'random')\n",
    "random_results.fruit_end"
   ]
  },
  {
   "cell_type": "code",
   "execution_count": 24,
   "id": "66acde75",
   "metadata": {},
   "outputs": [],
   "source": [
    "#Class to keep track of the results of multiple runs per strategy\n",
    "class MultIterGame:\n",
    "    smallest_results = []\n",
    "    largest_results = []\n",
    "    random_results = []"
   ]
  },
  {
   "cell_type": "code",
   "execution_count": 25,
   "id": "cc866c7c",
   "metadata": {},
   "outputs": [],
   "source": [
    "#Code to run several batches of multiple runs\n",
    "def run_batches(n_runs, n_times):\n",
    "    mult_iter_game = MultIterGame()\n",
    "    mult_iter_game.smallest_results.clear()\n",
    "    mult_iter_game.largest_results.clear()\n",
    "    mult_iter_game.random_results.clear()\n",
    "    for _ in range(n_runs):\n",
    "        small_run = run_strat_ntimes(n_times, 'smallest')\n",
    "        mult_iter_game.smallest_results.append(small_run.fruit_end)\n",
    "        large_run = run_strat_ntimes(n_times, 'largest')\n",
    "        mult_iter_game.largest_results.append(large_run.fruit_end)\n",
    "        random_run = run_strat_ntimes(n_times, 'random')\n",
    "        mult_iter_game.random_results.append(random_run.fruit_end)\n",
    "    return mult_iter_game"
   ]
  },
  {
   "cell_type": "code",
   "execution_count": 26,
   "id": "d443e7f4",
   "metadata": {},
   "outputs": [
    {
     "name": "stdout",
     "output_type": "stream",
     "text": [
      "[5, 5, 6, 6, 7, 5, 6, 5, 2, 6]\n",
      "[6, 5, 6, 5, 6, 9, 9, 4, 7, 7]\n",
      "[5, 5, 4, 3, 5, 6, 6, 7, 9, 5]\n"
     ]
    }
   ],
   "source": [
    "test_run_batches = run_batches(10,10)\n",
    "print(test_run_batches.smallest_results)\n",
    "print(test_run_batches.largest_results)\n",
    "print(test_run_batches.random_results)"
   ]
  },
  {
   "cell_type": "code",
   "execution_count": 27,
   "id": "64bcbcdf",
   "metadata": {},
   "outputs": [],
   "source": [
    "real_run_batches = run_batches(10000, 10)"
   ]
  },
  {
   "cell_type": "code",
   "execution_count": 28,
   "id": "71a35c55",
   "metadata": {},
   "outputs": [],
   "source": [
    "small_avg = np.mean(real_run_batches.smallest_results)"
   ]
  },
  {
   "cell_type": "code",
   "execution_count": 29,
   "id": "7514b277",
   "metadata": {},
   "outputs": [],
   "source": [
    "small_perc_win = round(small_avg/10*100,2)"
   ]
  },
  {
   "cell_type": "code",
   "execution_count": 30,
   "id": "5a358679",
   "metadata": {},
   "outputs": [
    {
     "data": {
      "text/plain": [
       "55.65"
      ]
     },
     "execution_count": 30,
     "metadata": {},
     "output_type": "execute_result"
    }
   ],
   "source": [
    "small_perc_win"
   ]
  },
  {
   "cell_type": "code",
   "execution_count": 31,
   "id": "354a1eb2",
   "metadata": {},
   "outputs": [],
   "source": [
    "large_avg = np.mean(real_run_batches.largest_results)"
   ]
  },
  {
   "cell_type": "code",
   "execution_count": 32,
   "id": "9d676b2e",
   "metadata": {},
   "outputs": [],
   "source": [
    "large_perc_win = round(large_avg/10*100,2)"
   ]
  },
  {
   "cell_type": "code",
   "execution_count": 33,
   "id": "d884b3bd",
   "metadata": {},
   "outputs": [
    {
     "data": {
      "text/plain": [
       "63.21"
      ]
     },
     "execution_count": 33,
     "metadata": {},
     "output_type": "execute_result"
    }
   ],
   "source": [
    "large_perc_win"
   ]
  },
  {
   "cell_type": "code",
   "execution_count": 34,
   "id": "1b076fd8",
   "metadata": {},
   "outputs": [
    {
     "data": {
      "text/plain": [
       "7.56"
      ]
     },
     "execution_count": 34,
     "metadata": {},
     "output_type": "execute_result"
    }
   ],
   "source": [
    "#Odds increase of largest strategy over smallest strategy\n",
    "round(large_perc_win - small_perc_win,2)"
   ]
  },
  {
   "cell_type": "code",
   "execution_count": 35,
   "id": "d71630d6",
   "metadata": {},
   "outputs": [],
   "source": [
    "random_avg = np.mean(real_run_batches.random_results)"
   ]
  },
  {
   "cell_type": "code",
   "execution_count": 36,
   "id": "befd6b33",
   "metadata": {},
   "outputs": [],
   "source": [
    "rand_perc_win = round(random_avg/10*100,2)"
   ]
  },
  {
   "cell_type": "code",
   "execution_count": 37,
   "id": "e8a0f287",
   "metadata": {},
   "outputs": [
    {
     "data": {
      "text/plain": [
       "59.74"
      ]
     },
     "execution_count": 37,
     "metadata": {},
     "output_type": "execute_result"
    }
   ],
   "source": [
    "rand_perc_win"
   ]
  },
  {
   "cell_type": "code",
   "execution_count": 38,
   "id": "f5bd43bf",
   "metadata": {},
   "outputs": [
    {
     "data": {
      "text/plain": [
       "3.47"
      ]
     },
     "execution_count": 38,
     "metadata": {},
     "output_type": "execute_result"
    }
   ],
   "source": [
    "#Odds increase of largest strategy over random strategy\n",
    "round(large_perc_win - rand_perc_win,2)"
   ]
  },
  {
   "cell_type": "markdown",
   "id": "1ee6d7b3",
   "metadata": {},
   "source": [
    "# The largest strategy is the best by ~7.5% over the smallest strategy and ~3.5 over random (which is how my 3 year old plays).* There is no theoretical reason to consider other strategies, e.g. choosing the 2nd most or 2nd least and etc.... The odds of winning range between ~ 55.5% and ~63%*\n",
    "\n",
    "### * This was based on multiple runs of this notebook. "
   ]
  },
  {
   "cell_type": "code",
   "execution_count": 39,
   "id": "9b2e4e36",
   "metadata": {},
   "outputs": [
    {
     "data": {
      "image/png": "[encoded data removed]",
      "text/plain": [
       "<Figure size 640x480 with 1 Axes>"
      ]
     },
     "metadata": {},
     "output_type": "display_data"
    }
   ],
   "source": [
    "plt.hist(real_run_batches.largest_results)\n",
    "plt.xlabel(\"Number of Wins\")\n",
    "plt.ylabel(\"Number of Games Played\")\n",
    "plt.title(\"# Wins per 10 Games Using Largest Strategy\")\n",
    "plt.show()"
   ]
  },
  {
   "cell_type": "code",
   "execution_count": 40,
   "id": "184981f0",
   "metadata": {},
   "outputs": [
    {
     "data": {
      "image/png": "[encoded data removed]",
      "text/plain": [
       "<Figure size 640x480 with 1 Axes>"
      ]
     },
     "metadata": {},
     "output_type": "display_data"
    }
   ],
   "source": [
    "plt.hist(real_run_batches.smallest_results)\n",
    "plt.xlabel(\"Number of Wins\")\n",
    "plt.ylabel(\"Number of Games Played\")\n",
    "plt.title(\"# Wins per 10 Games Using Smallest Strategy\")\n",
    "plt.show()"
   ]
  },
  {
   "cell_type": "code",
   "execution_count": 41,
   "id": "0a08cd66",
   "metadata": {},
   "outputs": [
    {
     "data": {
      "image/png": "[encoded data removed]",
      "text/plain": [
       "<Figure size 640x480 with 1 Axes>"
      ]
     },
     "metadata": {},
     "output_type": "display_data"
    }
   ],
   "source": [
    "plt.hist(real_run_batches.random_results)\n",
    "plt.xlabel(\"Number of Wins\")\n",
    "plt.ylabel(\"Number of Games Played\")\n",
    "plt.title(\"# Wins per 10 Games Using Random strategy\")\n",
    "plt.show()"
   ]
  }
 ],
 "metadata": {
  "kernelspec": {
   "display_name": ".venv",
   "language": "python",
   "name": "python3"
  },
  "language_info": {
   "codemirror_mode": {
    "name": "ipython",
    "version": 3
   },
   "file_extension": ".py",
   "mimetype": "text/x-python",
   "name": "python",
   "nbconvert_exporter": "python",
   "pygments_lexer": "ipython3",
   "version": "3.11.1"
  }
 },
 "nbformat": 4,
 "nbformat_minor": 5
}
