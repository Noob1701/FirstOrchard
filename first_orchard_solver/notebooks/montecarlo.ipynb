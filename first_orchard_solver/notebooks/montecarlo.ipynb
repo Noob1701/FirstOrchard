{
 "cells": [
  {
   "cell_type": "markdown",
   "id": "4b773eb2",
   "metadata": {},
   "source": [
    "###This notebook first simulates and then solves a game I play with my young daughter often. In this game you roll a die, if you roll a die with a color you take a fruit of that color from its tree. There are 4 types of these fruits. One other side of the die is the raven. If you roll the raven 5 times before getting all the fruits from the trees you lose. The last die is a basket where you choose which color you would like to would like to take from the tree. And this choice is what is being investigated in terms of win percentages. "
   ]
  },
  {
   "cell_type": "code",
   "execution_count": 1,
   "id": "2d3ad0aa",
   "metadata": {},
   "outputs": [],
   "source": [
    "import numpy as np\n",
    "\n",
    "from first_orchard_solver.gameplay.gamesims import run_batches\n",
    "from first_orchard_solver.gameplay.gamesolver import win_perc, win_perc_comp"
   ]
  },
  {
   "cell_type": "code",
   "execution_count": 2,
   "id": "d55216a4",
   "metadata": {},
   "outputs": [],
   "source": [
    "batches = run_batches(10000, 100)"
   ]
  },
  {
   "cell_type": "markdown",
   "id": "478f9bc8",
   "metadata": {},
   "source": [
    "###run_batches simulates playing many batches of games using different strategies. The different strategies pertain to when you have a choice of moving a fruit of your choice from the basket, you can choose one at random (random_strategy), from one of the fruit type that have the most left (largest_strategy), or from one of the fruit type that have the least left (smallest_strategy). run_batches lets the user run x number of batches of x number of games. In the above code I set it for 10000 batches of 100 games for a total of 1000000 games. And this is for each strategy for a grand total of 3000000 games played between three different strategies. Fuller testing is in test_game_solver.py and logs for this testing are in test_validation.log"
   ]
  },
  {
   "cell_type": "code",
   "execution_count": 3,
   "id": "74cc73b3",
   "metadata": {},
   "outputs": [
    {
     "name": "stdout",
     "output_type": "stream",
     "text": [
      "Using the strategy of picking from the fruit with the least remaining on a wild roll \n",
      "has an estimated average win rate of: 55.5188%\n"
     ]
    }
   ],
   "source": [
    "least_mean = np.mean(batches.smallest_results)\n",
    "print(f\"Using the strategy of picking from the fruit with the least remaining on a \" \n",
    "      f\"wild roll \\nhas an estimated average win rate of: {least_mean}%\")"
   ]
  },
  {
   "cell_type": "code",
   "execution_count": 4,
   "id": "a0cc134e",
   "metadata": {},
   "outputs": [
    {
     "data": {
      "text/plain": [
       "55.50000000000001"
      ]
     },
     "execution_count": 4,
     "metadata": {},
     "output_type": "execute_result"
    }
   ],
   "source": [
    "least_mdp = win_perc((4,4,4,4), 5, \"small\")\n",
    "least_mdp[0]*100"
   ]
  },
  {
   "cell_type": "markdown",
   "id": "b1a74bbc",
   "metadata": {},
   "source": [
    "###This is usually within rounding error of the Monte Carlo simulation above. This mathematically proves an approximate (due to rounding) 55.5 percent chance of winning when using a consistent strategy of picking from the fruit with the least left when a wild is rolled."
   ]
  },
  {
   "cell_type": "code",
   "execution_count": 5,
   "id": "b8ff47ce",
   "metadata": {},
   "outputs": [
    {
     "name": "stdout",
     "output_type": "stream",
     "text": [
      "Using the strategy of picking from the fruit with the most remaining on a wild roll \n",
      "has an estimated average win rate of: 63.0646%\n"
     ]
    }
   ],
   "source": [
    "most_mean = np.mean(batches.largest_results)\n",
    "print(f\"Using the strategy of picking from the fruit with the most remaining on a \" \n",
    "      f\"wild roll \\nhas an estimated average win rate of: {most_mean}%\")"
   ]
  },
  {
   "cell_type": "code",
   "execution_count": 6,
   "id": "aa9a1f3e",
   "metadata": {},
   "outputs": [
    {
     "data": {
      "text/plain": [
       "63.2"
      ]
     },
     "execution_count": 6,
     "metadata": {},
     "output_type": "execute_result"
    }
   ],
   "source": [
    "most_mdp = win_perc((4,4,4,4), 5, \"large\")\n",
    "most_mdp[0]*100"
   ]
  },
  {
   "cell_type": "markdown",
   "id": "7ecc6233",
   "metadata": {},
   "source": [
    "###This is also usually within rounding error of the Monte Carlo simulation above. This mathematically proves an approximate (due to rounding) 63.2 percent chance of winning when using a consistent strategy of picking from the fruit with the most left when a wild is rolled."
   ]
  },
  {
   "cell_type": "code",
   "execution_count": 7,
   "id": "fde8f998",
   "metadata": {},
   "outputs": [
    {
     "name": "stdout",
     "output_type": "stream",
     "text": [
      "Using the strategy of picking a random fruit on a wild roll \n",
      "has an estimated average win rate of:  59.5409%\n"
     ]
    }
   ],
   "source": [
    "random_mean = np.mean(batches.random_results)\n",
    "print(f\"Using the strategy of picking a random fruit on a \" \n",
    "      f\"wild roll \\nhas an estimated average win rate of:  {random_mean}%\")"
   ]
  },
  {
   "cell_type": "code",
   "execution_count": 8,
   "id": "b23b7252",
   "metadata": {},
   "outputs": [
    {
     "data": {
      "text/plain": [
       "98.8"
      ]
     },
     "execution_count": 8,
     "metadata": {},
     "output_type": "execute_result"
    }
   ],
   "source": [
    "rand_mdp = win_perc((0,0,0,1), 4, \"large\")\n",
    "rand_mdp[0]*100\n"
   ]
  },
  {
   "cell_type": "markdown",
   "id": "dbcfe269",
   "metadata": {},
   "source": [
    "###For obvious reasons this will on average have more varaiation, in fact it is not strictly a mdp as I used random choice in the code for the calculation making it a bit less analytical. However, this will still always be very close to the Monte Carlo simulation, suggesting correct calculations. There is more testing available in the test_game_solver.py file. "
   ]
  },
  {
   "cell_type": "markdown",
   "id": "167ba493",
   "metadata": {},
   "source": [
    "###Now we are ready to actually compare states. The function below considers a scenario where you might be faced with a choice of which fruit to choose. Let's say you roll a wild on your second roll. Such that you have a choice to have either two fruits with 4 remaining and two fruits with 3 remaining or 3 fruits with 4 remaining and 2 of one fruit remaining. What are your odds of winning depending on which strategy you choose. Well most of the work has already been done so I just created a function that directly compares two states and it appears below. "
   ]
  },
  {
   "cell_type": "code",
   "execution_count": 9,
   "id": "851d040d",
   "metadata": {},
   "outputs": [
    {
     "data": {
      "text/plain": [
       "(-1.0999999999999943, 69.1)"
      ]
     },
     "execution_count": 9,
     "metadata": {},
     "output_type": "execute_result"
    }
   ],
   "source": [
    "win_perc_comp((4,4,3,3,), 5, (4,2,4,4), 5)"
   ]
  },
  {
   "cell_type": "markdown",
   "id": "54a9660c",
   "metadata": {},
   "source": [
    "###In the scenario above we find that choosing the largest in this scenario assuming continued perfect play you will improve your odds of winning by 1.10% to 70.20% over the subpar choice which gives us a 69.10% of winning. The next step I am going to work on is to program a game with the outputs to see all of this as you play."
   ]
  },
  {
   "cell_type": "markdown",
   "id": "60643dbc",
   "metadata": {},
   "source": []
  }
 ],
 "metadata": {
  "kernelspec": {
   "display_name": ".venv",
   "language": "python",
   "name": "python3"
  },
  "language_info": {
   "codemirror_mode": {
    "name": "ipython",
    "version": 3
   },
   "file_extension": ".py",
   "mimetype": "text/x-python",
   "name": "python",
   "nbconvert_exporter": "python",
   "pygments_lexer": "ipython3",
   "version": "3.11.1"
  }
 },
 "nbformat": 4,
 "nbformat_minor": 5
}
