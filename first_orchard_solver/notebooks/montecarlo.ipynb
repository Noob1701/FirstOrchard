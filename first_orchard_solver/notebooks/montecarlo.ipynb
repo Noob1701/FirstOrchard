{
 "cells": [
  {
   "cell_type": "markdown",
   "id": "4b773eb2",
   "metadata": {},
   "source": [
    "###This notebook first simulates and then solves a game I play with my young daughter often. In this game you roll a die, if you roll a die with a color you take a fruit of that color from its tree. There are 4 types of these fruits. One other side of the die is the raven. If you roll the raven 5 times before getting all the fruits from the trees you lose. The last die is a basket where you choose which color you would like to would like to take from the tree. And this choice is what is being investigated in terms of win percentages. "
   ]
  },
  {
   "cell_type": "code",
   "execution_count": 3,
   "id": "2d3ad0aa",
   "metadata": {},
   "outputs": [],
   "source": [
    "import numpy as np\n",
    "\n",
    "from first_orchard_solver.gameplay.gamesims import run_batches\n",
    "from first_orchard_solver.gameplay.gamesolver import win_perc, win_perc_comp\n",
    "from first_orchard_solver.gameplay.gamelogic import GameState"
   ]
  },
  {
   "cell_type": "code",
   "execution_count": 19,
   "id": "d55216a4",
   "metadata": {},
   "outputs": [],
   "source": [
    "game_state = GameState()\n",
    "batches = run_batches(game_state, 100, 10000, strat=[\"fewest\", \"most\", \"random\"])\n"
   ]
  },
  {
   "cell_type": "markdown",
   "id": "478f9bc8",
   "metadata": {},
   "source": [
    "###run_batches simulates playing many batches of games using different strategies. The different strategies pertain to when you have a choice of moving a fruit of your choice from the basket, you can choose one fruit at random, from one of the fruit types that have the most left, or from one of the fruit type that have the least left. run_batches lets the user run x number of batches of x number of games. In the above code I set it for 10000 batches of 100 games for a total of 1000000 games. And this is for each strategy for a grand total of 3000000 games played between three different strategies. Fuller testing is in test_game_solver.py and logs for this testing are in test_validation.log for most items in this notebook, but with less verbal explanation."
   ]
  },
  {
   "cell_type": "code",
   "execution_count": 20,
   "id": "74cc73b3",
   "metadata": {},
   "outputs": [
    {
     "name": "stdout",
     "output_type": "stream",
     "text": [
      "Using the strategy of picking from the fruit with the least remaining on a wild roll \n",
      "has an estimated average win rate of: 55.5369%\n"
     ]
    }
   ],
   "source": [
    "fewest_mean = np.mean(batches.fewest_strat_runs)\n",
    "print(f\"Using the strategy of picking from the fruit with the least remaining on a \" \n",
    "      f\"wild roll \\nhas an estimated average win rate of: {fewest_mean}%\")"
   ]
  },
  {
   "cell_type": "code",
   "execution_count": 22,
   "id": "a0cc134e",
   "metadata": {},
   "outputs": [
    {
     "data": {
      "text/plain": [
       "55.50000000000001"
      ]
     },
     "execution_count": 22,
     "metadata": {},
     "output_type": "execute_result"
    }
   ],
   "source": [
    "least_mdp = win_perc((4,4,4,4), 5, \"fewest\")\n",
    "least_mdp[0]*100"
   ]
  },
  {
   "cell_type": "markdown",
   "id": "b1a74bbc",
   "metadata": {},
   "source": [
    "###win_perc mathematically solves the odds of winning from any game position. The solved code is usually within rounding error of the Monte Carlo simulation above. "
   ]
  },
  {
   "cell_type": "code",
   "execution_count": 23,
   "id": "b8ff47ce",
   "metadata": {},
   "outputs": [
    {
     "name": "stdout",
     "output_type": "stream",
     "text": [
      "Using the strategy of picking from the fruit with the most remaining on a wild roll \n",
      "has an estimated average win rate of: 63.069%\n"
     ]
    }
   ],
   "source": [
    "most_mean = np.mean(batches.most_strat_runs)\n",
    "print(f\"Using the strategy of picking from the fruit with the most remaining on a \" \n",
    "      f\"wild roll \\nhas an estimated average win rate of: {most_mean}%\")"
   ]
  },
  {
   "cell_type": "code",
   "execution_count": 24,
   "id": "aa9a1f3e",
   "metadata": {},
   "outputs": [
    {
     "data": {
      "text/plain": [
       "63.2"
      ]
     },
     "execution_count": 24,
     "metadata": {},
     "output_type": "execute_result"
    }
   ],
   "source": [
    "most_mdp = win_perc((4,4,4,4), 5, \"most\")\n",
    "most_mdp[0]*100"
   ]
  },
  {
   "cell_type": "markdown",
   "id": "7ecc6233",
   "metadata": {},
   "source": [
    "###This is also usually within rounding error of the Monte Carlo simulation above. This mathematically proves an approximate (due to rounding) 63.2 percent chance of winning when using a consistent strategy of picking from the fruit with the most left when a wild is rolled."
   ]
  },
  {
   "cell_type": "code",
   "execution_count": 25,
   "id": "fde8f998",
   "metadata": {},
   "outputs": [
    {
     "name": "stdout",
     "output_type": "stream",
     "text": [
      "Using the strategy of picking a random fruit on a wild roll \n",
      "has an estimated average win rate of:  59.6962%\n"
     ]
    }
   ],
   "source": [
    "random_mean = np.mean(batches.random_strat_runs)\n",
    "print(f\"Using the strategy of picking a random fruit on a \" \n",
    "      f\"wild roll \\nhas an estimated average win rate of:  {random_mean}%\")"
   ]
  },
  {
   "cell_type": "code",
   "execution_count": 26,
   "id": "b23b7252",
   "metadata": {},
   "outputs": [
    {
     "data": {
      "text/plain": [
       "59.699999999999996"
      ]
     },
     "execution_count": 26,
     "metadata": {},
     "output_type": "execute_result"
    }
   ],
   "source": [
    "rand_mdp = win_perc((4,4,4,4), 5, \"random\")\n",
    "rand_mdp[0]*100\n"
   ]
  },
  {
   "cell_type": "markdown",
   "id": "dbcfe269",
   "metadata": {},
   "source": [
    "###For obvious reasons this will on average have more varaiation, in fact it is not strictly a solver as I used random choice in the code. However, this will still always be very close to the Monte Carlo simulation, suggesting correct calculations. "
   ]
  },
  {
   "cell_type": "markdown",
   "id": "167ba493",
   "metadata": {},
   "source": [
    "###Now we are ready to actually compare states. The function below considers a scenario where you might be faced with a choice of which fruit to choose. Let's say you roll a wild on your second roll. Such that you have a choice to have either two fruits with 4 remaining and two fruits with 3 remaining or 3 fruits with 4 remaining and 2 of one fruit remaining. What are your odds of winning depending on which strategy you choose. Well most of the work has already been done so I just created a function that directly compares two states and it appears below. A playable version is available in main.py that will show you odds as you play."
   ]
  },
  {
   "cell_type": "code",
   "execution_count": null,
   "id": "851d040d",
   "metadata": {},
   "outputs": [
    {
     "data": {
      "text/plain": [
       "(1.0999999999999943, 69.1, 70.19999999999999)"
      ]
     },
     "execution_count": 36,
     "metadata": {},
     "output_type": "execute_result"
    }
   ],
   "source": [
    "game_state1 = GameState()\n",
    "game_state1.fruit_inventory.fruit_inventory = {3:4, 4:4, 5:3, 6:3}\n",
    "game_state1.raven_track.spaces = 5\n",
    "game_state2 = GameState()\n",
    "game_state2.fruit_inventory.fruit_inventory = {3:4, 4:2, 5:4, 6:4}\n",
    "game_state2.raven_track.spaces = 5\n",
    "odds = win_perc_comp(game_state1, game_state2)\n",
    "print(f\"In this scenario, you improve your odds by {odds[0]} by choosing the fruit with\" \n",
    "      f\" the most remaining. Odds of the f\")"
   ]
  },
  {
   "cell_type": "markdown",
   "id": "54a9660c",
   "metadata": {},
   "source": [
    "###In the scenario above we find that choosing the largest in this scenario assuming continued perfect play you will improve your odds of winning by 1.10% to 70.20% over the subpar choice which gives us a 69.10% of winning. The next step I am going to work on is to program a game with the outputs to see all of this as you play."
   ]
  },
  {
   "cell_type": "code",
   "execution_count": null,
   "id": "732b1222",
   "metadata": {},
   "outputs": [],
   "source": [
    "win_perc((4,4,4,4,), 6, \"most\")"
   ]
  },
  {
   "cell_type": "markdown",
   "id": "230f650f",
   "metadata": {},
   "source": []
  },
  {
   "cell_type": "markdown",
   "id": "f65012d3",
   "metadata": {},
   "source": [
    "###This last cell shows what the percent chance of winning with various strategies altering the initial game conditions by adding one more space on the raven track. For a kids game I think 75% win rate (assuming )"
   ]
  }
 ],
 "metadata": {
  "kernelspec": {
   "display_name": ".venv",
   "language": "python",
   "name": "python3"
  },
  "language_info": {
   "codemirror_mode": {
    "name": "ipython",
    "version": 3
   },
   "file_extension": ".py",
   "mimetype": "text/x-python",
   "name": "python",
   "nbconvert_exporter": "python",
   "pygments_lexer": "ipython3",
   "version": "3.11.1"
  }
 },
 "nbformat": 4,
 "nbformat_minor": 5
}
