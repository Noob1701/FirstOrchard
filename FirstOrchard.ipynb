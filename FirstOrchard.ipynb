{
 "cells": [
  {
   "cell_type": "code",
   "execution_count": 281,
   "id": "70260899",
   "metadata": {},
   "outputs": [],
   "source": [
    "import random\n",
    "import numpy as np\n",
    "import matplotlib.pyplot as plt"
   ]
  },
  {
   "cell_type": "code",
   "execution_count": 2,
   "id": "dd789775",
   "metadata": {},
   "outputs": [],
   "source": [
    "class RavenTrack:\n",
    "    def __init__(self, spaces = 5):\n",
    "        self.spaces = spaces\n",
    "    def decrement_raven(self, result):\n",
    "        if result == 1:\n",
    "            self.spaces -= 1"
   ]
  },
  {
   "cell_type": "code",
   "execution_count": 3,
   "id": "21130ba6",
   "metadata": {},
   "outputs": [],
   "source": [
    "#Single responsibility, defining the dice for the game, want this to have a variable number of sides\n",
    "class OrchardDie:\n",
    "    def __init__(self, sides = 6, result = None):\n",
    "        self.sides = sides\n",
    "        self.result = None\n",
    "        \n",
    "    def roll(self):\n",
    "        self.result = random.randint(1, self.sides)\n",
    "        return self.result\n",
    "        "
   ]
  },
  {
   "cell_type": "code",
   "execution_count": 4,
   "id": "5b34660e",
   "metadata": {},
   "outputs": [
    {
     "data": {
      "text/plain": [
       "5"
      ]
     },
     "execution_count": 4,
     "metadata": {},
     "output_type": "execute_result"
    }
   ],
   "source": [
    "OrchardDie().roll()"
   ]
  },
  {
   "cell_type": "code",
   "execution_count": 115,
   "id": "3af979b1",
   "metadata": {},
   "outputs": [],
   "source": [
    "class FruitInventory():\n",
    "    def __init__(self, orchard_die = None, fruit_amt = 4):\n",
    "        if orchard_die is None:\n",
    "            orchard_die = OrchardDie()\n",
    "        self.fruit_types = orchard_die.sides - 2\n",
    "        self.fruit_amt = fruit_amt\n",
    "        self.full_inv = {}\n",
    "        for fruit in range(self.fruit_types):\n",
    "            self.full_inv[fruit + 3] = fruit_amt\n",
    "    def decrement_fruit(self, result):\n",
    "        if result in self.full_inv.keys() and self.full_inv[result] > 0:\n",
    "            self.full_inv[result] -=1\n",
    "    def smallest_strat(self):\n",
    "        non_zero_fruits = {k: v for k, v in self.full_inv.items() if v > 0}\n",
    "        smallest_fruit = min(non_zero_fruits, key=non_zero_fruits.get)\n",
    "        self.full_inv[smallest_fruit] -= 1\n",
    "    def largest_strat(self):\n",
    "        largest_fruit = max(self.full_inv, key=self.full_inv.get)\n",
    "        self.full_inv[largest_fruit] -= 1\n",
    "    def random_strat(self):\n",
    "        non_zero_fruits = [k for k, v in self.full_inv.items() if v > 0]\n",
    "        random_fruit = random.choice(non_zero_fruits)\n",
    "        self.full_inv[random_fruit] -= 1\n",
    "    def check_not_zero(self):\n",
    "        return any(value != 0 for value in self.full_inv.values())"
   ]
  },
  {
   "cell_type": "code",
   "execution_count": 6,
   "id": "c2812836",
   "metadata": {},
   "outputs": [
    {
     "name": "stdout",
     "output_type": "stream",
     "text": [
      "5\n"
     ]
    },
    {
     "data": {
      "text/plain": [
       "{3: 4, 4: 4, 5: 3, 6: 4}"
      ]
     },
     "execution_count": 6,
     "metadata": {},
     "output_type": "execute_result"
    }
   ],
   "source": [
    "#Test of decrement fruit and OrchardDie\n",
    "o_die = OrchardDie()\n",
    "o_die_res = o_die.roll()\n",
    "print(o_die_res)\n",
    "apple = FruitInventory(o_die)\n",
    "apple.decrement_fruit(o_die_res)\n",
    "apple.full_inv"
   ]
  },
  {
   "cell_type": "code",
   "execution_count": 119,
   "id": "98deeb35",
   "metadata": {},
   "outputs": [
    {
     "name": "stdout",
     "output_type": "stream",
     "text": [
      "{3: 4, 4: 3, 5: 4, 6: 4}\n",
      "{3: 4, 4: 2, 5: 4, 6: 4}\n"
     ]
    }
   ],
   "source": [
    "#Test of smallest strat\n",
    "apple = FruitInventory()\n",
    "apple.full_inv[4] = 3\n",
    "print(apple.full_inv)\n",
    "apple.smallest_strat()\n",
    "print(apple.full_inv)"
   ]
  },
  {
   "cell_type": "code",
   "execution_count": 8,
   "id": "720b1dbb",
   "metadata": {},
   "outputs": [
    {
     "name": "stdout",
     "output_type": "stream",
     "text": [
      "{3: 4, 4: 5, 5: 4, 6: 4}\n",
      "{3: 4, 4: 4, 5: 4, 6: 4}\n"
     ]
    }
   ],
   "source": [
    "#Test of largest strat\n",
    "apple = FruitInventory()\n",
    "apple.full_inv[4] = 5\n",
    "print(apple.full_inv)\n",
    "apple.largest_strat(2)\n",
    "print(apple.full_inv)"
   ]
  },
  {
   "cell_type": "code",
   "execution_count": 9,
   "id": "c0a9860c",
   "metadata": {},
   "outputs": [
    {
     "name": "stdout",
     "output_type": "stream",
     "text": [
      "{3: 4, 4: 4, 5: 4, 6: 4}\n",
      "{3: 4, 4: 3, 5: 4, 6: 4}\n"
     ]
    }
   ],
   "source": [
    "#Test of random strat\n",
    "o_die = OrchardDie()\n",
    "apple = FruitInventory(o_die)\n",
    "print(apple.full_inv)\n",
    "apple.random_strat(2)\n",
    "print(apple.full_inv)"
   ]
  },
  {
   "cell_type": "code",
   "execution_count": 10,
   "id": "52de7984",
   "metadata": {},
   "outputs": [
    {
     "name": "stdout",
     "output_type": "stream",
     "text": [
      "{3: 0, 4: 0, 5: 1, 6: 0}\n",
      "True\n",
      "{3: 4, 4: 4, 5: 4, 6: 4}\n",
      "True\n",
      "{3: 0, 4: 0, 5: 0, 6: 0}\n",
      "False\n"
     ]
    }
   ],
   "source": [
    "#Test check zeros\n",
    "apple = FruitInventory(fruit_amt = 0)\n",
    "apple.full_inv[5] = 1\n",
    "print(apple.full_inv)\n",
    "print(apple.check_not_zero())\n",
    "banana = FruitInventory()\n",
    "print(banana.full_inv)\n",
    "print(banana.check_not_zero())\n",
    "strawberry = FruitInventory(fruit_amt = 0)\n",
    "print(strawberry.full_inv)\n",
    "print(strawberry.check_not_zero())"
   ]
  },
  {
   "cell_type": "code",
   "execution_count": 11,
   "id": "a4e16179",
   "metadata": {},
   "outputs": [],
   "source": [
    "class GameState:\n",
    "    def __init__(self, orchard_die=None):\n",
    "        self.orchard_die = orchard_die if orchard_die else OrchardDie()\n",
    "        self.raven_track = RavenTrack()\n",
    "        self.fruit_inventory = FruitInventory(self.orchard_die)\n",
    "    \n",
    "    def is_game_over(self):\n",
    "        return self.raven_track.spaces <= 0 or not self.fruit_inventory.check_not_zero()"
   ]
  },
  {
   "cell_type": "code",
   "execution_count": 126,
   "id": "fae6cb0b",
   "metadata": {},
   "outputs": [],
   "source": [
    "#code to play game based on strategy including end conditions\n",
    "def play_with_strat(strat):\n",
    "    game_state = GameState()\n",
    "    while not game_state.is_game_over():\n",
    "        result = game_state.orchard_die.roll()\n",
    "        strategies = {\n",
    "                'smallest': game_state.fruit_inventory.smallest_strat,\n",
    "                'largest': game_state.fruit_inventory.largest_strat,\n",
    "                'random': game_state.fruit_inventory.random_strat\n",
    "                }\n",
    "        if result != 2:\n",
    "            game_state.raven_track.decrement_raven(result)\n",
    "            game_state.fruit_inventory.decrement_fruit(result)\n",
    "        else:\n",
    "            if strat in strategies:\n",
    "                strategies[strat]()\n",
    "                \n",
    "    return game_state"
   ]
  },
  {
   "cell_type": "code",
   "execution_count": 127,
   "id": "8df7f741",
   "metadata": {},
   "outputs": [
    {
     "name": "stdout",
     "output_type": "stream",
     "text": [
      "{3: 0, 4: 0, 5: 0, 6: 0}\n",
      "1\n"
     ]
    }
   ],
   "source": [
    "final_fruit_inventory = play_with_strat('smallest')\n",
    "print(final_fruit_inventory.fruit_inventory.full_inv)\n",
    "print(final_fruit_inventory.raven_track.spaces)"
   ]
  },
  {
   "cell_type": "code",
   "execution_count": 128,
   "id": "e8e590f4",
   "metadata": {},
   "outputs": [],
   "source": [
    "#class to store multiple results\n",
    "class GameResults:\n",
    "    raven_end = 0\n",
    "    fruit_end = 0"
   ]
  },
  {
   "cell_type": "code",
   "execution_count": 129,
   "id": "e53798a9",
   "metadata": {},
   "outputs": [
    {
     "name": "stdout",
     "output_type": "stream",
     "text": [
      "0\n",
      "1\n"
     ]
    }
   ],
   "source": [
    "game_results = GameResults\n",
    "print(game_results.raven_end)\n",
    "game_results.raven_end +=1\n",
    "print(game_results.raven_end)"
   ]
  },
  {
   "cell_type": "code",
   "execution_count": 176,
   "id": "bf6915f0",
   "metadata": {},
   "outputs": [],
   "source": [
    "#code to run strategy multiple times\n",
    "def run_strat_ntimes(n_runs: int, strat):\n",
    "    game_results = GameResults\n",
    "    game_results.raven_end = 0\n",
    "    game_results.fruit_end = 0\n",
    "    for i in range(n_runs):\n",
    "        game_state = play_with_strat(strat)\n",
    "        if game_state.raven_track.spaces == 0:\n",
    "            game_results.raven_end += 1\n",
    "        else:\n",
    "            game_results.fruit_end +=1\n",
    "    return game_results    "
   ]
  },
  {
   "cell_type": "code",
   "execution_count": 174,
   "id": "8eaccc97",
   "metadata": {},
   "outputs": [
    {
     "name": "stdout",
     "output_type": "stream",
     "text": [
      "1\n",
      "2\n",
      "3\n"
     ]
    },
    {
     "data": {
      "text/plain": [
       "3"
      ]
     },
     "execution_count": 174,
     "metadata": {},
     "output_type": "execute_result"
    }
   ],
   "source": [
    "game_res_test = run_strat_ntimes(10, 'random')\n",
    "game_res_test.raven_end"
   ]
  },
  {
   "cell_type": "code",
   "execution_count": 16,
   "id": "4bbcf3ef",
   "metadata": {},
   "outputs": [],
   "source": [
    "#code to compare results between random, smallest, and largest strategies\n"
   ]
  },
  {
   "cell_type": "code",
   "execution_count": 231,
   "id": "7614dc2f",
   "metadata": {},
   "outputs": [],
   "source": [
    "smallest_results = run_strat_ntimes(10, 'smallest')"
   ]
  },
  {
   "cell_type": "code",
   "execution_count": 232,
   "id": "cb872b10",
   "metadata": {},
   "outputs": [
    {
     "data": {
      "text/plain": [
       "6"
      ]
     },
     "execution_count": 232,
     "metadata": {},
     "output_type": "execute_result"
    }
   ],
   "source": [
    "smallest_results.raven_end"
   ]
  },
  {
   "cell_type": "code",
   "execution_count": 183,
   "id": "068020d6",
   "metadata": {},
   "outputs": [],
   "source": [
    "largest_results = run_strat_ntimes(100000, 'largest')"
   ]
  },
  {
   "cell_type": "code",
   "execution_count": 184,
   "id": "1042dab2",
   "metadata": {},
   "outputs": [
    {
     "data": {
      "text/plain": [
       "36699"
      ]
     },
     "execution_count": 184,
     "metadata": {},
     "output_type": "execute_result"
    }
   ],
   "source": [
    "largest_results.raven_end"
   ]
  },
  {
   "cell_type": "code",
   "execution_count": 185,
   "id": "3051d73e",
   "metadata": {},
   "outputs": [],
   "source": [
    "random_results = run_strat_ntimes(100000, 'random')"
   ]
  },
  {
   "cell_type": "code",
   "execution_count": 186,
   "id": "e19b38f2",
   "metadata": {},
   "outputs": [
    {
     "data": {
      "text/plain": [
       "40110"
      ]
     },
     "execution_count": 186,
     "metadata": {},
     "output_type": "execute_result"
    }
   ],
   "source": [
    "random_results.raven_end"
   ]
  },
  {
   "cell_type": "code",
   "execution_count": 187,
   "id": "858cde72",
   "metadata": {},
   "outputs": [],
   "source": [
    "class MultIterGame:\n",
    "    smallest_results = []\n",
    "    largest_results = []\n",
    "    random_results = []"
   ]
  },
  {
   "cell_type": "code",
   "execution_count": 242,
   "id": "d9b0a910",
   "metadata": {},
   "outputs": [],
   "source": [
    "def run_batches(n_runs, n_times):\n",
    "    mult_iter_game = MultIterGame()\n",
    "    mult_iter_game.smallest_results.clear()\n",
    "    mult_iter_game.largest_results.clear()\n",
    "    mult_iter_game.random_results.clear()\n",
    "    for _ in range(n_runs):\n",
    "        small_run = run_strat_ntimes(n_times, 'smallest')\n",
    "        mult_iter_game.smallest_results.append(small_run.raven_end)\n",
    "        large_run = run_strat_ntimes(n_times, 'largest')\n",
    "        mult_iter_game.largest_results.append(large_run.raven_end)\n",
    "        random_run = run_strat_ntimes(n_times, 'random')\n",
    "        mult_iter_game.random_results.append(random_run.raven_end)\n",
    "    return mult_iter_game"
   ]
  },
  {
   "cell_type": "code",
   "execution_count": 243,
   "id": "a4d1c763",
   "metadata": {},
   "outputs": [
    {
     "name": "stdout",
     "output_type": "stream",
     "text": [
      "[6, 5, 2, 2, 7, 5, 5, 4, 5, 4]\n",
      "[4, 5, 5, 5, 5, 2, 5, 2, 2, 3]\n",
      "[3, 5, 6, 5, 5, 2, 7, 2, 5, 3]\n"
     ]
    }
   ],
   "source": [
    "test_run_batches = run_batches(10,10)\n",
    "print(test_run_batches.smallest_results)\n",
    "print(test_run_batches.largest_results)\n",
    "print(test_run_batches.random_results)"
   ]
  },
  {
   "cell_type": "code",
   "execution_count": 244,
   "id": "864543fc",
   "metadata": {},
   "outputs": [],
   "source": [
    "real_run_batches = run_batches(10000, 10)"
   ]
  },
  {
   "cell_type": "code",
   "execution_count": 246,
   "id": "a6b9c504",
   "metadata": {},
   "outputs": [],
   "source": [
    "small_avg = np.mean(real_run_batches.smallest_results)"
   ]
  },
  {
   "cell_type": "code",
   "execution_count": 270,
   "id": "999a639e",
   "metadata": {},
   "outputs": [],
   "source": [
    "small_perc_loss = round(small_avg/10*100,2)"
   ]
  },
  {
   "cell_type": "code",
   "execution_count": 271,
   "id": "d5f22d6f",
   "metadata": {},
   "outputs": [
    {
     "data": {
      "text/plain": [
       "44.31"
      ]
     },
     "execution_count": 271,
     "metadata": {},
     "output_type": "execute_result"
    }
   ],
   "source": [
    "small_perc_loss"
   ]
  },
  {
   "cell_type": "code",
   "execution_count": 265,
   "id": "ac46e77c",
   "metadata": {},
   "outputs": [],
   "source": [
    "large_avg = np.mean(real_run_batches.largest_results)"
   ]
  },
  {
   "cell_type": "code",
   "execution_count": 272,
   "id": "389c59b1",
   "metadata": {},
   "outputs": [],
   "source": [
    "large_perc_loss = round(large_avg/10*100,2)"
   ]
  },
  {
   "cell_type": "code",
   "execution_count": 273,
   "id": "cb2a8763",
   "metadata": {},
   "outputs": [
    {
     "data": {
      "text/plain": [
       "36.96"
      ]
     },
     "execution_count": 273,
     "metadata": {},
     "output_type": "execute_result"
    }
   ],
   "source": [
    "large_perc_loss"
   ]
  },
  {
   "cell_type": "code",
   "execution_count": 275,
   "id": "0726d5e6",
   "metadata": {},
   "outputs": [
    {
     "data": {
      "text/plain": [
       "7.35"
      ]
     },
     "execution_count": 275,
     "metadata": {},
     "output_type": "execute_result"
    }
   ],
   "source": [
    "round(small_perc_loss - large_perc_loss,2)"
   ]
  },
  {
   "cell_type": "code",
   "execution_count": 256,
   "id": "49313c16",
   "metadata": {},
   "outputs": [],
   "source": [
    "random_avg = np.mean(real_run_batches.random_results)"
   ]
  },
  {
   "cell_type": "code",
   "execution_count": 276,
   "id": "165e07c3",
   "metadata": {},
   "outputs": [],
   "source": [
    "rand_perc_loss = round(random_avg/10*100,2)"
   ]
  },
  {
   "cell_type": "code",
   "execution_count": 277,
   "id": "d97416b6",
   "metadata": {},
   "outputs": [
    {
     "data": {
      "text/plain": [
       "40.47"
      ]
     },
     "execution_count": 277,
     "metadata": {},
     "output_type": "execute_result"
    }
   ],
   "source": [
    "rand_perc_loss"
   ]
  },
  {
   "cell_type": "code",
   "execution_count": 279,
   "id": "233ccfae",
   "metadata": {},
   "outputs": [
    {
     "data": {
      "text/plain": [
       "3.51"
      ]
     },
     "execution_count": 279,
     "metadata": {},
     "output_type": "execute_result"
    }
   ],
   "source": [
    "round(rand_perc_loss - large_perc_loss,2)"
   ]
  },
  {
   "cell_type": "code",
   "execution_count": null,
   "id": "1f700bde",
   "metadata": {},
   "outputs": [],
   "source": []
  }
 ],
 "metadata": {
  "kernelspec": {
   "display_name": "Python 3 (ipykernel)",
   "language": "python",
   "name": "python3"
  },
  "language_info": {
   "codemirror_mode": {
    "name": "ipython",
    "version": 3
   },
   "file_extension": ".py",
   "mimetype": "text/x-python",
   "name": "python",
   "nbconvert_exporter": "python",
   "pygments_lexer": "ipython3",
   "version": "3.10.9"
  }
 },
 "nbformat": 4,
 "nbformat_minor": 5
}
